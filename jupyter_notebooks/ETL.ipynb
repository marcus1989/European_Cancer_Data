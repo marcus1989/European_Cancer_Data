{
  "cells": [
    {
      "cell_type": "code",
      "execution_count": 1,
      "metadata": {
        "id": "wZfF_j-Bz3i4",
        "outputId": "66943449-1436-4c3d-85c7-b85f9f78349b"
      },
      "outputs": [
        {
          "data": {
            "text/plain": [
              "'/Users/jacobambat/dev/European_Cancer_Data/jupyter_notebooks'"
            ]
          },
          "execution_count": 1,
          "metadata": {},
          "output_type": "execute_result"
        }
      ],
      "source": [
        "import os\n",
        "current_dir = os.getcwd()\n",
        "current_dir"
      ]
    },
    {
      "cell_type": "code",
      "execution_count": 2,
      "metadata": {
        "id": "TwHsQRWjz3i9",
        "outputId": "86849db3-cd2f-4cc5-ebb8-2d0caafa1a2c"
      },
      "outputs": [
        {
          "name": "stdout",
          "output_type": "stream",
          "text": [
            "You set a new current directory\n"
          ]
        }
      ],
      "source": [
        "os.chdir(os.path.dirname(current_dir))\n",
        "print(\"You set a new current directory\")"
      ]
    },
    {
      "cell_type": "code",
      "execution_count": 3,
      "metadata": {
        "id": "vz3S-_kjz3jA",
        "outputId": "00b79ae4-75d0-4a96-d193-ac9ef9847ea2"
      },
      "outputs": [
        {
          "data": {
            "text/plain": [
              "'/Users/jacobambat/dev/European_Cancer_Data'"
            ]
          },
          "execution_count": 3,
          "metadata": {},
          "output_type": "execute_result"
        }
      ],
      "source": [
        "current_dir = os.getcwd()\n",
        "current_dir"
      ]
    },
    {
      "cell_type": "code",
      "execution_count": 5,
      "metadata": {},
      "outputs": [],
      "source": [
        "os.environ['KAGGLE_CONFIG_DIR'] = os.getcwd()\n",
        "!chmod 600 kaggle.json"
      ]
    },
    {
      "cell_type": "code",
      "execution_count": 10,
      "metadata": {},
      "outputs": [],
      "source": [
        "KaggleDatasetPath = \"ak0212/european-cancer-patient-dataset\"\n",
        "DestinationFolder = \"data/raw\""
      ]
    },
    {
      "cell_type": "code",
      "execution_count": 11,
      "metadata": {},
      "outputs": [
        {
          "name": "stdout",
          "output_type": "stream",
          "text": [
            "data/raw\n"
          ]
        }
      ],
      "source": [
        "print(DestinationFolder)"
      ]
    },
    {
      "cell_type": "code",
      "execution_count": 12,
      "metadata": {},
      "outputs": [
        {
          "name": "stdout",
          "output_type": "stream",
          "text": [
            "Dataset URL: https://www.kaggle.com/datasets/ak0212/european-cancer-patient-dataset\n",
            "License(s): MIT\n",
            "Downloading european-cancer-patient-dataset.zip to data/raw\n",
            "  0%|                                                | 0.00/344k [00:00<?, ?B/s]\n",
            "100%|█████████████████████████████████████████| 344k/344k [00:00<00:00, 596MB/s]\n"
          ]
        }
      ],
      "source": [
        "! kaggle datasets download -d {KaggleDatasetPath} -p {DestinationFolder}"
      ]
    },
    {
      "cell_type": "code",
      "execution_count": 13,
      "metadata": {},
      "outputs": [
        {
          "name": "stdout",
          "output_type": "stream",
          "text": [
            "['data/raw/european-cancer-patient-dataset.zip']\n",
            "zip_file\n",
            "Extraction complete.\n"
          ]
        }
      ],
      "source": [
        "import os\n",
        "import zipfile\n",
        "import glob\n",
        "\n",
        "zip_files = glob.glob(os.path.join(DestinationFolder, \"*.zip\"))\n",
        "print(zip_files)\n",
        "\n",
        "for zip_file in zip_files:\n",
        "    print('zip_file')\n",
        "    with zipfile.ZipFile(zip_file, 'r') as zip_ref:\n",
        "        zip_ref.extractall(DestinationFolder)  # Extract here\n",
        "    os.remove(zip_file)  # Remove the ZIP file after extraction\n",
        "\n",
        "print(\"Extraction complete.\")\n",
        "#read csv file"
      ]
    },
    {
      "cell_type": "code",
      "execution_count": 15,
      "metadata": {},
      "outputs": [
        {
          "data": {
            "text/html": [
              "<div>\n",
              "<style scoped>\n",
              "    .dataframe tbody tr th:only-of-type {\n",
              "        vertical-align: middle;\n",
              "    }\n",
              "\n",
              "    .dataframe tbody tr th {\n",
              "        vertical-align: top;\n",
              "    }\n",
              "\n",
              "    .dataframe thead th {\n",
              "        text-align: right;\n",
              "    }\n",
              "</style>\n",
              "<table border=\"1\" class=\"dataframe\">\n",
              "  <thead>\n",
              "    <tr style=\"text-align: right;\">\n",
              "      <th></th>\n",
              "      <th>Patient ID</th>\n",
              "      <th>Country</th>\n",
              "      <th>Region</th>\n",
              "      <th>Age</th>\n",
              "      <th>Gender</th>\n",
              "      <th>Cancer Type</th>\n",
              "      <th>Cancer Stage</th>\n",
              "      <th>Diagnosis Date</th>\n",
              "      <th>Treatment Start Date</th>\n",
              "      <th>Treatment End Date</th>\n",
              "      <th>...</th>\n",
              "      <th>Alcohol Consumption</th>\n",
              "      <th>BMI</th>\n",
              "      <th>Socioeconomic Status</th>\n",
              "      <th>Urban vs. Rural</th>\n",
              "      <th>Healthcare System</th>\n",
              "      <th>Follow-up Visits</th>\n",
              "      <th>Recurrence</th>\n",
              "      <th>Clinical Trial Participation</th>\n",
              "      <th>Comorbidities</th>\n",
              "      <th>Quality of Life Score</th>\n",
              "    </tr>\n",
              "  </thead>\n",
              "  <tbody>\n",
              "    <tr>\n",
              "      <th>0</th>\n",
              "      <td>PT00001</td>\n",
              "      <td>Finland</td>\n",
              "      <td>Southwest Finland</td>\n",
              "      <td>89.0</td>\n",
              "      <td>Male</td>\n",
              "      <td>Breast</td>\n",
              "      <td>III</td>\n",
              "      <td>2015-08-10</td>\n",
              "      <td>2015-09-20</td>\n",
              "      <td>2016-09-07</td>\n",
              "      <td>...</td>\n",
              "      <td>Moderate</td>\n",
              "      <td>39.3</td>\n",
              "      <td>Medium</td>\n",
              "      <td>Urban</td>\n",
              "      <td>NHS</td>\n",
              "      <td>12.0</td>\n",
              "      <td>Yes</td>\n",
              "      <td>Yes</td>\n",
              "      <td>Diabetes</td>\n",
              "      <td>5.0</td>\n",
              "    </tr>\n",
              "    <tr>\n",
              "      <th>1</th>\n",
              "      <td>PT00002</td>\n",
              "      <td>Belgium</td>\n",
              "      <td>Flanders</td>\n",
              "      <td>49.0</td>\n",
              "      <td>Female</td>\n",
              "      <td>Prostate</td>\n",
              "      <td>IV</td>\n",
              "      <td>2010-01-27</td>\n",
              "      <td>2010-06-29</td>\n",
              "      <td>2011-02-09</td>\n",
              "      <td>...</td>\n",
              "      <td>Moderate</td>\n",
              "      <td>21.6</td>\n",
              "      <td>High</td>\n",
              "      <td>Rural</td>\n",
              "      <td>Private Insurance</td>\n",
              "      <td>10.0</td>\n",
              "      <td>NaN</td>\n",
              "      <td>Yes</td>\n",
              "      <td>Diabetes</td>\n",
              "      <td>10.0</td>\n",
              "    </tr>\n",
              "    <tr>\n",
              "      <th>2</th>\n",
              "      <td>PT00003</td>\n",
              "      <td>Poland</td>\n",
              "      <td>Silesian</td>\n",
              "      <td>42.0</td>\n",
              "      <td>Male</td>\n",
              "      <td>Lung</td>\n",
              "      <td>III</td>\n",
              "      <td>2016-08-25</td>\n",
              "      <td>2016-10-23</td>\n",
              "      <td>2016-12-27</td>\n",
              "      <td>...</td>\n",
              "      <td>NaN</td>\n",
              "      <td>23.7</td>\n",
              "      <td>Low</td>\n",
              "      <td>NaN</td>\n",
              "      <td>Statutory Health Insurance</td>\n",
              "      <td>5.0</td>\n",
              "      <td>No</td>\n",
              "      <td>No</td>\n",
              "      <td>Obesity</td>\n",
              "      <td>1.0</td>\n",
              "    </tr>\n",
              "    <tr>\n",
              "      <th>3</th>\n",
              "      <td>PT00004</td>\n",
              "      <td>Ireland</td>\n",
              "      <td>Dublin</td>\n",
              "      <td>51.0</td>\n",
              "      <td>Female</td>\n",
              "      <td>Prostate</td>\n",
              "      <td>III</td>\n",
              "      <td>NaN</td>\n",
              "      <td>NaN</td>\n",
              "      <td>2011-02-28</td>\n",
              "      <td>...</td>\n",
              "      <td>Moderate</td>\n",
              "      <td>34.0</td>\n",
              "      <td>Medium</td>\n",
              "      <td>Rural</td>\n",
              "      <td>Private Insurance</td>\n",
              "      <td>4.0</td>\n",
              "      <td>Yes</td>\n",
              "      <td>No</td>\n",
              "      <td>Diabetes</td>\n",
              "      <td>5.0</td>\n",
              "    </tr>\n",
              "    <tr>\n",
              "      <th>4</th>\n",
              "      <td>PT00005</td>\n",
              "      <td>NaN</td>\n",
              "      <td>Sicily</td>\n",
              "      <td>76.0</td>\n",
              "      <td>Female</td>\n",
              "      <td>Lung</td>\n",
              "      <td>II</td>\n",
              "      <td>2018-05-26</td>\n",
              "      <td>NaN</td>\n",
              "      <td>2019-04-20</td>\n",
              "      <td>...</td>\n",
              "      <td>NaN</td>\n",
              "      <td>33.9</td>\n",
              "      <td>Medium</td>\n",
              "      <td>Urban</td>\n",
              "      <td>Statutory Health Insurance</td>\n",
              "      <td>5.0</td>\n",
              "      <td>No</td>\n",
              "      <td>No</td>\n",
              "      <td>Hypertension</td>\n",
              "      <td>6.0</td>\n",
              "    </tr>\n",
              "    <tr>\n",
              "      <th>...</th>\n",
              "      <td>...</td>\n",
              "      <td>...</td>\n",
              "      <td>...</td>\n",
              "      <td>...</td>\n",
              "      <td>...</td>\n",
              "      <td>...</td>\n",
              "      <td>...</td>\n",
              "      <td>...</td>\n",
              "      <td>...</td>\n",
              "      <td>...</td>\n",
              "      <td>...</td>\n",
              "      <td>...</td>\n",
              "      <td>...</td>\n",
              "      <td>...</td>\n",
              "      <td>...</td>\n",
              "      <td>...</td>\n",
              "      <td>...</td>\n",
              "      <td>...</td>\n",
              "      <td>...</td>\n",
              "      <td>...</td>\n",
              "      <td>...</td>\n",
              "    </tr>\n",
              "    <tr>\n",
              "      <th>9995</th>\n",
              "      <td>PT09996</td>\n",
              "      <td>Austria</td>\n",
              "      <td>Styria</td>\n",
              "      <td>45.0</td>\n",
              "      <td>NaN</td>\n",
              "      <td>Ovarian</td>\n",
              "      <td>II</td>\n",
              "      <td>2023-06-16</td>\n",
              "      <td>2023-10-10</td>\n",
              "      <td>2024-01-16</td>\n",
              "      <td>...</td>\n",
              "      <td>Moderate</td>\n",
              "      <td>38.2</td>\n",
              "      <td>Medium</td>\n",
              "      <td>Urban</td>\n",
              "      <td>NHS</td>\n",
              "      <td>11.0</td>\n",
              "      <td>No</td>\n",
              "      <td>No</td>\n",
              "      <td>NaN</td>\n",
              "      <td>3.0</td>\n",
              "    </tr>\n",
              "    <tr>\n",
              "      <th>9996</th>\n",
              "      <td>PT09997</td>\n",
              "      <td>Netherlands</td>\n",
              "      <td>North Holland</td>\n",
              "      <td>22.0</td>\n",
              "      <td>NaN</td>\n",
              "      <td>Leukemia</td>\n",
              "      <td>II</td>\n",
              "      <td>2022-11-24</td>\n",
              "      <td>2023-05-13</td>\n",
              "      <td>2023-12-22</td>\n",
              "      <td>...</td>\n",
              "      <td>NaN</td>\n",
              "      <td>25.9</td>\n",
              "      <td>High</td>\n",
              "      <td>Rural</td>\n",
              "      <td>NHS</td>\n",
              "      <td>NaN</td>\n",
              "      <td>No</td>\n",
              "      <td>No</td>\n",
              "      <td>Cardiovascular Disease</td>\n",
              "      <td>3.0</td>\n",
              "    </tr>\n",
              "    <tr>\n",
              "      <th>9997</th>\n",
              "      <td>PT09998</td>\n",
              "      <td>Norway</td>\n",
              "      <td>Oslo</td>\n",
              "      <td>21.0</td>\n",
              "      <td>NaN</td>\n",
              "      <td>Pancreatic</td>\n",
              "      <td>II</td>\n",
              "      <td>2011-06-24</td>\n",
              "      <td>2011-10-18</td>\n",
              "      <td>2012-07-19</td>\n",
              "      <td>...</td>\n",
              "      <td>Moderate</td>\n",
              "      <td>36.8</td>\n",
              "      <td>High</td>\n",
              "      <td>Urban</td>\n",
              "      <td>NHS</td>\n",
              "      <td>17.0</td>\n",
              "      <td>Yes</td>\n",
              "      <td>Yes</td>\n",
              "      <td>Diabetes</td>\n",
              "      <td>10.0</td>\n",
              "    </tr>\n",
              "    <tr>\n",
              "      <th>9998</th>\n",
              "      <td>PT09999</td>\n",
              "      <td>Ireland</td>\n",
              "      <td>Dublin</td>\n",
              "      <td>21.0</td>\n",
              "      <td>Male</td>\n",
              "      <td>Pancreatic</td>\n",
              "      <td>I</td>\n",
              "      <td>2014-12-27</td>\n",
              "      <td>2015-02-10</td>\n",
              "      <td>2016-01-09</td>\n",
              "      <td>...</td>\n",
              "      <td>Moderate</td>\n",
              "      <td>18.8</td>\n",
              "      <td>Low</td>\n",
              "      <td>Rural</td>\n",
              "      <td>Private Insurance</td>\n",
              "      <td>3.0</td>\n",
              "      <td>Yes</td>\n",
              "      <td>No</td>\n",
              "      <td>Obesity</td>\n",
              "      <td>7.0</td>\n",
              "    </tr>\n",
              "    <tr>\n",
              "      <th>9999</th>\n",
              "      <td>PT10000</td>\n",
              "      <td>Netherlands</td>\n",
              "      <td>Utrecht</td>\n",
              "      <td>41.0</td>\n",
              "      <td>Female</td>\n",
              "      <td>Pancreatic</td>\n",
              "      <td>NaN</td>\n",
              "      <td>2011-04-20</td>\n",
              "      <td>2011-07-07</td>\n",
              "      <td>2011-11-29</td>\n",
              "      <td>...</td>\n",
              "      <td>NaN</td>\n",
              "      <td>30.9</td>\n",
              "      <td>Medium</td>\n",
              "      <td>Rural</td>\n",
              "      <td>Private Insurance</td>\n",
              "      <td>NaN</td>\n",
              "      <td>Yes</td>\n",
              "      <td>Yes</td>\n",
              "      <td>NaN</td>\n",
              "      <td>9.0</td>\n",
              "    </tr>\n",
              "  </tbody>\n",
              "</table>\n",
              "<p>10000 rows × 27 columns</p>\n",
              "</div>"
            ],
            "text/plain": [
              "     Patient ID      Country             Region   Age  Gender Cancer Type  \\\n",
              "0       PT00001      Finland  Southwest Finland  89.0    Male      Breast   \n",
              "1       PT00002      Belgium           Flanders  49.0  Female    Prostate   \n",
              "2       PT00003       Poland           Silesian  42.0    Male        Lung   \n",
              "3       PT00004      Ireland             Dublin  51.0  Female    Prostate   \n",
              "4       PT00005          NaN             Sicily  76.0  Female        Lung   \n",
              "...         ...          ...                ...   ...     ...         ...   \n",
              "9995    PT09996      Austria             Styria  45.0     NaN     Ovarian   \n",
              "9996    PT09997  Netherlands      North Holland  22.0     NaN    Leukemia   \n",
              "9997    PT09998       Norway               Oslo  21.0     NaN  Pancreatic   \n",
              "9998    PT09999      Ireland             Dublin  21.0    Male  Pancreatic   \n",
              "9999    PT10000  Netherlands            Utrecht  41.0  Female  Pancreatic   \n",
              "\n",
              "     Cancer Stage Diagnosis Date Treatment Start Date Treatment End Date  ...  \\\n",
              "0             III     2015-08-10           2015-09-20         2016-09-07  ...   \n",
              "1              IV     2010-01-27           2010-06-29         2011-02-09  ...   \n",
              "2             III     2016-08-25           2016-10-23         2016-12-27  ...   \n",
              "3             III            NaN                  NaN         2011-02-28  ...   \n",
              "4              II     2018-05-26                  NaN         2019-04-20  ...   \n",
              "...           ...            ...                  ...                ...  ...   \n",
              "9995           II     2023-06-16           2023-10-10         2024-01-16  ...   \n",
              "9996           II     2022-11-24           2023-05-13         2023-12-22  ...   \n",
              "9997           II     2011-06-24           2011-10-18         2012-07-19  ...   \n",
              "9998            I     2014-12-27           2015-02-10         2016-01-09  ...   \n",
              "9999          NaN     2011-04-20           2011-07-07         2011-11-29  ...   \n",
              "\n",
              "     Alcohol Consumption   BMI Socioeconomic Status  Urban vs. Rural  \\\n",
              "0               Moderate  39.3               Medium            Urban   \n",
              "1               Moderate  21.6                 High            Rural   \n",
              "2                    NaN  23.7                  Low              NaN   \n",
              "3               Moderate  34.0               Medium            Rural   \n",
              "4                    NaN  33.9               Medium            Urban   \n",
              "...                  ...   ...                  ...              ...   \n",
              "9995            Moderate  38.2               Medium            Urban   \n",
              "9996                 NaN  25.9                 High            Rural   \n",
              "9997            Moderate  36.8                 High            Urban   \n",
              "9998            Moderate  18.8                  Low            Rural   \n",
              "9999                 NaN  30.9               Medium            Rural   \n",
              "\n",
              "               Healthcare System Follow-up Visits Recurrence  \\\n",
              "0                            NHS             12.0        Yes   \n",
              "1              Private Insurance             10.0        NaN   \n",
              "2     Statutory Health Insurance              5.0         No   \n",
              "3              Private Insurance              4.0        Yes   \n",
              "4     Statutory Health Insurance              5.0         No   \n",
              "...                          ...              ...        ...   \n",
              "9995                         NHS             11.0         No   \n",
              "9996                         NHS              NaN         No   \n",
              "9997                         NHS             17.0        Yes   \n",
              "9998           Private Insurance              3.0        Yes   \n",
              "9999           Private Insurance              NaN        Yes   \n",
              "\n",
              "     Clinical Trial Participation           Comorbidities  \\\n",
              "0                             Yes                Diabetes   \n",
              "1                             Yes                Diabetes   \n",
              "2                              No                 Obesity   \n",
              "3                              No                Diabetes   \n",
              "4                              No            Hypertension   \n",
              "...                           ...                     ...   \n",
              "9995                           No                     NaN   \n",
              "9996                           No  Cardiovascular Disease   \n",
              "9997                          Yes                Diabetes   \n",
              "9998                           No                 Obesity   \n",
              "9999                          Yes                     NaN   \n",
              "\n",
              "     Quality of Life Score  \n",
              "0                      5.0  \n",
              "1                     10.0  \n",
              "2                      1.0  \n",
              "3                      5.0  \n",
              "4                      6.0  \n",
              "...                    ...  \n",
              "9995                   3.0  \n",
              "9996                   3.0  \n",
              "9997                  10.0  \n",
              "9998                   7.0  \n",
              "9999                   9.0  \n",
              "\n",
              "[10000 rows x 27 columns]"
            ]
          },
          "execution_count": 15,
          "metadata": {},
          "output_type": "execute_result"
        }
      ],
      "source": [
        "import pandas as pd\n",
        "df = pd.read_csv(f'{DestinationFolder}/cancer_patient_data.csv')\n",
        "df"
      ]
    },
    {
      "cell_type": "markdown",
      "metadata": {
        "id": "-mavJ8DibrcQ"
      },
      "source": [
        "# Section 1"
      ]
    },
    {
      "cell_type": "markdown",
      "metadata": {},
      "source": [
        "Section 1 content"
      ]
    },
    {
      "cell_type": "code",
      "execution_count": null,
      "metadata": {},
      "outputs": [],
      "source": []
    },
    {
      "cell_type": "markdown",
      "metadata": {
        "id": "ZY3l0-AxO93d"
      },
      "source": [
        "---"
      ]
    },
    {
      "cell_type": "markdown",
      "metadata": {
        "id": "uFQo3ycuO-v6"
      },
      "source": [
        "# Section 2"
      ]
    },
    {
      "cell_type": "markdown",
      "metadata": {},
      "source": [
        "Section 2 content"
      ]
    },
    {
      "cell_type": "code",
      "execution_count": null,
      "metadata": {},
      "outputs": [],
      "source": []
    },
    {
      "cell_type": "markdown",
      "metadata": {},
      "source": [
        "---"
      ]
    },
    {
      "cell_type": "markdown",
      "metadata": {},
      "source": [
        "NOTE"
      ]
    },
    {
      "cell_type": "markdown",
      "metadata": {},
      "source": [
        "* You may add as many sections as you want, as long as it supports your project workflow.\n",
        "* All notebook's cells should be run top-down (you can't create a dynamic wherein a given point you need to go back to a previous cell to execute some task, like go back to a previous cell and refresh a variable content)"
      ]
    },
    {
      "cell_type": "markdown",
      "metadata": {},
      "source": [
        "---"
      ]
    },
    {
      "cell_type": "markdown",
      "metadata": {
        "id": "ltNetd085qHf"
      },
      "source": [
        "# Push files to Repo"
      ]
    },
    {
      "cell_type": "markdown",
      "metadata": {},
      "source": [
        "* In cases where you don't need to push files to Repo, you may replace this section with \"Conclusions and Next Steps\" and state your conclusions and next steps."
      ]
    },
    {
      "cell_type": "code",
      "execution_count": null,
      "metadata": {
        "id": "aKlnIozA4eQO",
        "outputId": "fd09bc1f-adb1-4511-f6ce-492a6af570c0"
      },
      "outputs": [],
      "source": [
        "import os\n",
        "try:\n",
        "  # create your folder here\n",
        "  # os.makedirs(name='')\n",
        "except Exception as e:\n",
        "  print(e)\n"
      ]
    }
  ],
  "metadata": {
    "accelerator": "GPU",
    "colab": {
      "name": "Data Practitioner Jupyter Notebook.ipynb",
      "provenance": [],
      "toc_visible": true
    },
    "interpreter": {
      "hash": "8b8334dab9339717f727a1deaf837b322d7a41c20d15cc86be99a8e69ceec8ce"
    },
    "kernelspec": {
      "display_name": "Python 3.8.12 64-bit ('3.8.12': pyenv)",
      "name": "python3"
    },
    "language_info": {
      "codemirror_mode": {
        "name": "ipython",
        "version": 3
      },
      "file_extension": ".py",
      "mimetype": "text/x-python",
      "name": "python",
      "nbconvert_exporter": "python",
      "pygments_lexer": "ipython3",
      "version": "3.12.8"
    },
    "orig_nbformat": 2
  },
  "nbformat": 4,
  "nbformat_minor": 2
}
